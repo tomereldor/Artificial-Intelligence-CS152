{
 "cells": [
  {
   "cell_type": "markdown",
   "metadata": {
    "collapsed": false
   },
   "source": [
    "# Forward Chaining in Python\n",
    "In your groups, you are required to do the following:\n",
    "1. Combine your individual implementations of the forward chaining solver and generate one implementation as a group.  Try to combine the best features of all of your implementations.\n",
    "2. Enter the following 9-sentence KB into your code:\n",
    "\n",
    "    * S1: B ∧ C ⇒ A\n",
    "    * S2: D ⇒ B\n",
    "    * S3: E ⇒ B\n",
    "    * S4: H ⇒ D\n",
    "    * S5: G ∧ B ⇒ F\n",
    "    * S6: C ∧ K ⇒ G\n",
    "    * S7: A ∧ B ⇒ J\n",
    "    * S8: C\n",
    "    * S9: E\n",
    "3. Determine all consequences of this KB that can be inferred using your code.\n",
    "4. F is not a logical consequence of this KB.  Give a model of the KB where F is false."
   ]
  },
  {
   "cell_type": "code",
   "execution_count": 6,
   "metadata": {
    "collapsed": false
   },
   "outputs": [
    {
     "name": "stdout",
     "output_type": "stream",
     "text": [
      "KB entails A : True\n",
      "KB entails B : True\n",
      "KB entails C : True\n",
      "KB entails D : False\n",
      "KB entails E : True\n",
      "KB entails F : False\n",
      "KB entails G : False\n",
      "KB entails H : False\n",
      "KB entails J : True\n",
      "KB entails K : False\n"
     ]
    }
   ],
   "source": [
    "# Write your code here\n",
    "\n",
    "#Roujia\n",
    "class Symbol:\n",
    "    def __init__(self, name=\"\"):\n",
    "        self.name = name\n",
    "    def __str__(self):\n",
    "        return self.name\n",
    "\n",
    "class DefiniteClause:\n",
    "    def __init__(self, body, head):\n",
    "        self.body = body\n",
    "        self.head = head\n",
    "    def __str__(self):\n",
    "        return \",\".join([str(_) for _ in self.body]) + \"=>\" + str(self.head)\n",
    "\n",
    "def get_all_symbols(KB):\n",
    "    all_symbols = set([])\n",
    "    for each in KB:\n",
    "        for each_symbol in each.body:\n",
    "            all_symbols.add(each_symbol)\n",
    "        all_symbols.add(each.head)\n",
    "    return all_symbols\n",
    "    \n",
    "def get_facts(KB):\n",
    "    facts = []\n",
    "    for each in KB:\n",
    "        if (each.head != False) and ((len(each.body)==0)\\\n",
    "            or ((len(each.body)==1) and (each.body[0]==True))):\n",
    "            facts.append(each.head)\n",
    "    return facts\n",
    "\n",
    "def forward_chaining(KB,q):\n",
    "    all_symbols = get_all_symbols(KB)\n",
    "    count = {each:len(each.body) for each in KB}\n",
    "    inferred = {_:False for _ in all_symbols}\n",
    "    agenda = get_facts(KB)\n",
    "    \n",
    "    while len(agenda)>0:\n",
    "        p = agenda.pop(0)\n",
    "        if p == q:\n",
    "            return True\n",
    "        if inferred[p] == False:\n",
    "            inferred[p] = True\n",
    "            for each in KB:\n",
    "                if p in each.body:\n",
    "                    count[each] -= 1\n",
    "                    if count[each] == 0:\n",
    "                        agenda.append(each.head)\n",
    "    return False\n",
    "\n",
    "a = Symbol(\"A\")\n",
    "b = Symbol(\"B\")\n",
    "c = Symbol(\"C\")\n",
    "d = Symbol(\"D\")\n",
    "e = Symbol(\"E\")\n",
    "f = Symbol(\"F\")\n",
    "g = Symbol(\"G\")\n",
    "h = Symbol(\"H\")\n",
    "j = Symbol(\"J\")\n",
    "k = Symbol(\"K\")\n",
    "s1 = DefiniteClause([b,c], a)\n",
    "s2 = DefiniteClause([d], b)\n",
    "s3 = DefiniteClause([e], b)\n",
    "s4 = DefiniteClause([h], d)\n",
    "s5 = DefiniteClause([g,b], f)\n",
    "s6 = DefiniteClause([c,k], g)\n",
    "s7 = DefiniteClause([a,b], j)\n",
    "s8 = DefiniteClause([], c)\n",
    "s9 = DefiniteClause([], e)\n",
    "KB = [s1,s2,s3,s4,s5,s6,s7,s8,s9]\n",
    "\n",
    "for each in [a,b,c,d,e,f,g,h,j,k]:\n",
    "    print (\"KB entails\", each, \":\",forward_chaining(KB, each))\n"
   ]
  },
  {
   "cell_type": "code",
   "execution_count": 0,
   "metadata": {
    "collapsed": false
   },
   "outputs": [
   ],
   "source": [
   ]
  }
 ],
 "metadata": {
  "kernelspec": {
   "display_name": "Python 3 (Ubuntu Linux)",
   "language": "python",
   "name": "python3"
  },
  "language_info": {
   "codemirror_mode": {
    "name": "ipython",
    "version": 3
   },
   "file_extension": ".py",
   "mimetype": "text/x-python",
   "name": "python",
   "nbconvert_exporter": "python",
   "pygments_lexer": "ipython3",
   "version": "3.5.2"
  }
 },
 "nbformat": 4,
 "nbformat_minor": 0
}